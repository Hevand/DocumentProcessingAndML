{
  "cells": [
    {
      "cell_type": "markdown",
      "source": [
        "# Connect to your workspace\r\n",
        "[docs](https://docs.microsoft.com/en-us/azure/machine-learning/how-to-deploy-and-where?tabs=python)\r\n"
      ],
      "metadata": {
        "nteract": {
          "transient": {
            "deleting": false
          }
        }
      }
    },
    {
      "cell_type": "code",
      "source": [
        "from azureml.core import Workspace, Dataset\r\n",
        "ws = Workspace.from_config()"
      ],
      "outputs": [],
      "execution_count": 1,
      "metadata": {
        "gather": {
          "logged": 1632492181976
        }
      }
    },
    {
      "cell_type": "code",
      "source": [
        "import urllib.request\r\n",
        "from azureml.core.model import Model\r\n",
        "\r\n",
        "# Download model\r\n",
        "urllib.request.urlretrieve(\"https://aka.ms/bidaf-9-model\", \"model.onnx\")\r\n",
        "\r\n",
        "# Register model\r\n",
        "model = Model.register(ws, model_name=\"bidaf_onnx\", model_path=\"./model.onnx\")"
      ],
      "outputs": [
        {
          "output_type": "stream",
          "name": "stdout",
          "text": "Registering model bidaf_onnx\n"
        }
      ],
      "execution_count": 2,
      "metadata": {
        "jupyter": {
          "source_hidden": false,
          "outputs_hidden": false
        },
        "nteract": {
          "transient": {
            "deleting": false
          }
        },
        "gather": {
          "logged": 1632492188943
        }
      }
    },
    {
      "cell_type": "code",
      "source": [
        "from azureml.core import Environment\r\n",
        "from azureml.core.model import InferenceConfig\r\n",
        "\r\n",
        "env = Environment(name=\"project_environment\")\r\n",
        "dummy_inference_config = InferenceConfig(\r\n",
        "    environment=env,\r\n",
        "    source_directory=\"../\",\r\n",
        "    entry_script=\"./score.py\",\r\n",
        ")"
      ],
      "outputs": [],
      "execution_count": 3,
      "metadata": {
        "jupyter": {
          "source_hidden": false,
          "outputs_hidden": false
        },
        "nteract": {
          "transient": {
            "deleting": false
          }
        },
        "gather": {
          "logged": 1632492189122
        }
      }
    },
    {
      "cell_type": "code",
      "source": [
        "from azureml.core.webservice import LocalWebservice\r\n",
        "\r\n",
        "deployment_config = LocalWebservice.deploy_configuration(port=6789)"
      ],
      "outputs": [],
      "execution_count": 4,
      "metadata": {
        "jupyter": {
          "source_hidden": false,
          "outputs_hidden": false
        },
        "nteract": {
          "transient": {
            "deleting": false
          }
        },
        "gather": {
          "logged": 1632492189262
        }
      }
    },
    {
      "cell_type": "code",
      "source": [
        "service = Model.deploy(\r\n",
        "    ws,\r\n",
        "    \"myservice\",\r\n",
        "    [model],\r\n",
        "    dummy_inference_config,\r\n",
        "    deployment_config,\r\n",
        "    overwrite=True,\r\n",
        ")\r\n",
        "service.wait_for_deployment(show_output=True)"
      ],
      "outputs": [
        {
          "output_type": "stream",
          "name": "stdout",
          "text": "Downloading model bidaf_onnx:7 to /tmp/azureml_lisozd98/bidaf_onnx/7\nGenerating Docker build context.\n2021/09/24 14:03:26 Downloading source code...\n2021/09/24 14:03:27 Finished downloading source code\n2021/09/24 14:03:27 Creating Docker network: acb_default_network, driver: 'bridge'\n2021/09/24 14:03:28 Successfully set up Docker network: acb_default_network\n2021/09/24 14:03:28 Setting up Docker configuration...\n2021/09/24 14:03:28 Successfully set up Docker configuration\n2021/09/24 14:03:28 Logging in to registry: acrabstractwe.azurecr.io\n2021/09/24 14:03:30 Successfully logged into acrabstractwe.azurecr.io\n2021/09/24 14:03:30 Executing step ID: acb_step_0. Timeout(sec): 5400, Working directory: '', Network: 'acb_default_network'\n2021/09/24 14:03:30 Scanning for dependencies...\n2021/09/24 14:03:30 Successfully scanned dependencies\n2021/09/24 14:03:30 Launching container with name: acb_step_0\nSending build context to Docker daemon  66.56kB\nStep 1/19 : FROM mcr.microsoft.com/azureml/openmpi3.1.2-ubuntu18.04:20210806.v1@sha256:bb94557d668c1cebffb04d0a77aa461776f697753fb9ddf2784f8e65f47ff47c\nmcr.microsoft.com/azureml/openmpi3.1.2-ubuntu18.04:20210806.v1@sha256:bb94557d668c1cebffb04d0a77aa461776f697753fb9ddf2784f8e65f47ff47c: Pulling from azureml/openmpi3.1.2-ubuntu18.04\nfeac53061382: Pulling fs layer\n7dce5c8175d6: Pulling fs layer\n0a1b9502ed8f: Pulling fs layer\nd187f505e8b8: Pulling fs layer\nc7a3c00b133d: Pulling fs layer\n31b816123763: Pulling fs layer\n37b899c2505c: Pulling fs layer\nabda0175e0e2: Pulling fs layer\n19d6148ce542: Pulling fs layer\nd187f505e8b8: Waiting\nc7a3c00b133d: Waiting\n31b816123763: Waiting\n37b899c2505c: Waiting\nabda0175e0e2: Waiting\n19d6148ce542: Waiting\n0a1b9502ed8f: Verifying Checksum\n0a1b9502ed8f: Download complete\nfeac53061382: Verifying Checksum\nfeac53061382: Download complete\nd187f505e8b8: Verifying Checksum\nd187f505e8b8: Download complete\n31b816123763: Verifying Checksum\n31b816123763: Download complete\n37b899c2505c: Verifying Checksum\n37b899c2505c: Download complete\nc7a3c00b133d: Verifying Checksum\nc7a3c00b133d: Download complete\nabda0175e0e2: Verifying Checksum\nabda0175e0e2: Download complete\n19d6148ce542: Verifying Checksum\n19d6148ce542: Download complete\n7dce5c8175d6: Verifying Checksum\n7dce5c8175d6: Download complete\nfeac53061382: Pull complete\n7dce5c8175d6: Pull complete\n0a1b9502ed8f: Pull complete\nd187f505e8b8: Pull complete\nc7a3c00b133d: Pull complete\n31b816123763: Pull complete\n37b899c2505c: Pull complete\nabda0175e0e2: Pull complete\n19d6148ce542: Pull complete\nDigest: sha256:bb94557d668c1cebffb04d0a77aa461776f697753fb9ddf2784f8e65f47ff47c\nStatus: Downloaded newer image for mcr.microsoft.com/azureml/openmpi3.1.2-ubuntu18.04:20210806.v1@sha256:bb94557d668c1cebffb04d0a77aa461776f697753fb9ddf2784f8e65f47ff47c\n ---> 82e13edbc8db\nStep 2/19 : USER root\n ---> Running in 3380a91cbc56\nRemoving intermediate container 3380a91cbc56\n ---> dbb19bde842b\nStep 3/19 : RUN mkdir -p $HOME/.cache\n ---> Running in 2db19420c7c7\nRemoving intermediate container 2db19420c7c7\n ---> fc854ae1a800\nStep 4/19 : WORKDIR /\n ---> Running in 8b192a71758f\nRemoving intermediate container 8b192a71758f\n ---> 684dcf2df668\nStep 5/19 : COPY azureml-environment-setup/99brokenproxy /etc/apt/apt.conf.d/\n ---> 21c47975a35d\nStep 6/19 : RUN if dpkg --compare-versions `conda --version | grep -oE '[^ ]+$'` lt 4.4.11; then conda install conda==4.4.11; fi\n ---> Running in af1b95a2e624\nRemoving intermediate container af1b95a2e624\n ---> cb2550c515e6\nStep 7/19 : COPY azureml-environment-setup/mutated_conda_dependencies.yml azureml-environment-setup/mutated_conda_dependencies.yml\n ---> be27cfdd73af\nStep 8/19 : RUN ldconfig /usr/local/cuda/lib64/stubs && conda env create -p /azureml-envs/azureml_da3e97fcb51801118b8e80207f3e01ad -f azureml-environment-setup/mutated_conda_dependencies.yml && rm -rf \"$HOME/.cache/pip\" && conda clean -aqy && CONDA_ROOT_DIR=$(conda info --root) && rm -rf \"$CONDA_ROOT_DIR/pkgs\" && find \"$CONDA_ROOT_DIR\" -type d -name __pycache__ -exec rm -rf {} + && ldconfig\n ---> Running in 2d34a2f5560a\nWarning: you have pip-installed dependencies in your environment file, but you do not list pip itself as one of your conda dependencies.  Conda may not use the correct pip to install your packages, and they may end up in the wrong place.  Please add an explicit pip dependency.  I'm adding one for you, but still nagging you.\nCollecting package metadata (repodata.json): ...working... \ndone\nSolving environment: ...working... done\n\nDownloading and Extracting Packages\nreadline-7.0         | 387 KB    | ########## | 100% \npip-20.2.4           | 2.0 MB    | ########## | 100% \nxz-5.2.5             | 438 KB    | ########## | 100% \nlibedit-3.1          | 171 KB    | ########## | 100% \nsetuptools-50.3.0    | 891 KB    | ########## | 100% \nsqlite-3.23.1        | 1.5 MB    | ########## | 100% \ncertifi-2020.6.20    | 160 KB    | ########## | 100% \nncurses-6.0          | 907 KB    | ########## | 100% \npython-3.6.2         | 27.0 MB   | ########## | 100% \nopenssl-1.0.2u       | 3.1 MB    | ########## | 100% \nlibffi-3.2.1         | 52 KB     | ########## | 100% \ntk-8.6.10            | 3.2 MB    | ########## | 100% \nwheel-0.35.1         | 36 KB     | ########## | 100% \nzlib-1.2.11          | 120 KB    | ########## | 100% \nca-certificates-2020 | 128 KB    | ########## | 100% \nlibgcc-ng-9.1.0      | 8.1 MB    | ########## | 100% \nlibstdcxx-ng-9.1.0   | 4.0 MB    | ########## | 100% \nPreparing transaction: ...working... done\nVerifying transaction: ...working... done\nExecuting transaction: ...working... done\nInstalling pip dependencies: ...working... \nRan pip subprocess with arguments:\n['/azureml-envs/azureml_da3e97fcb51801118b8e80207f3e01ad/bin/python', '-m', 'pip', 'install', '-U', '-r', '/azureml-environment-setup/condaenv.gc9ek2d0.requirements.txt']\nPip subprocess output:\nCollecting azureml-defaults\n  Downloading azureml_defaults-1.34.0-py3-none-any.whl (3.1 kB)\nCollecting json-logging-py==0.2\n  Downloading json-logging-py-0.2.tar.gz (3.6 kB)\nCollecting azureml-inference-server-http~=0.3.1\n  Downloading azureml_inference_server_http-0.3.1-py3-none-any.whl (38 kB)\nCollecting azureml-core~=1.34.0\n  Downloading azureml_core-1.34.0-py3-none-any.whl (2.2 MB)\nCollecting opencensus-ext-azure==1.0.8\n  Downloading opencensus_ext_azure-1.0.8-py2.py3-none-any.whl (35 kB)\nCollecting werkzeug<=1.0.1,>=0.16.1\n  Downloading Werkzeug-1.0.1-py2.py3-none-any.whl (298 kB)\nCollecting azureml-dataset-runtime[fuse]~=1.34.0\n  Downloading azureml_dataset_runtime-1.34.0-py3-none-any.whl (3.5 kB)\nCollecting configparser==3.7.4\n  Downloading configparser-3.7.4-py2.py3-none-any.whl (22 kB)\nCollecting gunicorn==20.1.0\n  Downloading gunicorn-20.1.0-py3-none-any.whl (79 kB)\nCollecting flask==1.0.3\n  Downloading Flask-1.0.3-py2.py3-none-any.whl (92 kB)\nCollecting inference-schema==1.1.0\n  Downloading inference_schema-1.1.0-py3-none-any.whl (19 kB)\nCollecting applicationinsights>=0.11.7\n  Downloading applicationinsights-0.11.10-py2.py3-none-any.whl (55 kB)\nCollecting jsonpickle<3.0.0\n  Downloading jsonpickle-2.0.0-py2.py3-none-any.whl (37 kB)\nCollecting pathspec<1.0.0\n  Downloading pathspec-0.9.0-py2.py3-none-any.whl (31 kB)\nCollecting docker<6.0.0\n  Downloading docker-5.0.2-py2.py3-none-any.whl (145 kB)\nCollecting pyopenssl<21.0.0\n  Downloading pyOpenSSL-20.0.1-py2.py3-none-any.whl (54 kB)\nCollecting python-dateutil<3.0.0,>=2.7.3\n  Downloading python_dateutil-2.8.2-py2.py3-none-any.whl (247 kB)\nCollecting ruamel.yaml<0.17.5,>=0.15.35\n  Downloading ruamel.yaml-0.17.4-py3-none-any.whl (101 kB)\nCollecting requests<3.0.0,>=2.19.1\n  Downloading requests-2.26.0-py2.py3-none-any.whl (62 kB)\nCollecting msrestazure<=0.6.4,>=0.4.33\n  Downloading msrestazure-0.6.4-py2.py3-none-any.whl (40 kB)\nCollecting azure-mgmt-containerregistry>=2.0.0\n  Downloading azure_mgmt_containerregistry-8.1.0-py2.py3-none-any.whl (796 kB)\nCollecting cryptography!=1.9,!=2.0.*,!=2.1.*,!=2.2.*,<4.0.0\n  Downloading cryptography-3.4.8-cp36-abi3-manylinux_2_17_x86_64.manylinux2014_x86_64.whl (3.2 MB)\nCollecting adal<=1.2.7,>=1.2.0\n  Downloading adal-1.2.7-py2.py3-none-any.whl (55 kB)\nCollecting azure-mgmt-keyvault<10.0.0,>=0.40.0\n  Downloading azure_mgmt_keyvault-9.1.0-py2.py3-none-any.whl (314 kB)\nCollecting azure-mgmt-authorization<1.0.0,>=0.40.0\n  Downloading azure_mgmt_authorization-0.61.0-py2.py3-none-any.whl (94 kB)\nCollecting azure-mgmt-storage<16.0.0,>=1.5.0\n  Downloading azure_mgmt_storage-11.2.0-py2.py3-none-any.whl (547 kB)\nCollecting urllib3<=1.26.6,>=1.23\n  Downloading urllib3-1.26.6-py2.py3-none-any.whl (138 kB)\nCollecting pytz\n  Downloading pytz-2021.1-py2.py3-none-any.whl (510 kB)\nCollecting msrest<1.0.0,>=0.5.1\n  Downloading msrest-0.6.21-py2.py3-none-any.whl (85 kB)\nCollecting PyJWT<3.0.0\n  Downloading PyJWT-2.1.0-py3-none-any.whl (16 kB)\nCollecting backports.tempfile\n  Downloading backports.tempfile-1.0-py2.py3-none-any.whl (4.4 kB)\nCollecting ndg-httpsclient<=0.5.1\n  Downloading ndg_httpsclient-0.5.1-py3-none-any.whl (34 kB)\nCollecting azure-mgmt-resource<15.0.0,>=1.2.1\n  Downloading azure_mgmt_resource-13.0.0-py2.py3-none-any.whl (1.3 MB)\nCollecting contextlib2<22.0.0\n  Downloading contextlib2-21.6.0-py2.py3-none-any.whl (13 kB)\nCollecting azure-graphrbac<1.0.0,>=0.40.0\n  Downloading azure_graphrbac-0.61.1-py2.py3-none-any.whl (141 kB)\nCollecting azure-common<2.0.0,>=1.1.12\n  Downloading azure_common-1.1.27-py2.py3-none-any.whl (12 kB)\nCollecting jmespath<1.0.0\n  Downloading jmespath-0.10.0-py2.py3-none-any.whl (24 kB)\nCollecting SecretStorage<4.0.0\n  Downloading SecretStorage-3.3.1-py3-none-any.whl (15 kB)\nCollecting opencensus<1.0.0,>=0.7.13\n  Downloading opencensus-0.7.13-py2.py3-none-any.whl (127 kB)\nCollecting psutil>=5.6.3\n  Downloading psutil-5.8.0-cp36-cp36m-manylinux2010_x86_64.whl (291 kB)\nCollecting azureml-dataprep<2.23.0a,>=2.22.0a\n  Downloading azureml_dataprep-2.22.2-py3-none-any.whl (39.4 MB)\nCollecting numpy!=1.19.3; sys_platform == \"linux\"\n  Downloading numpy-1.19.5-cp36-cp36m-manylinux2010_x86_64.whl (14.8 MB)\nCollecting pyarrow<4.0.0,>=0.17.0\n  Downloading pyarrow-3.0.0-cp36-cp36m-manylinux2014_x86_64.whl (20.7 MB)\nCollecting fusepy<4.0.0,>=3.0.1; extra == \"fuse\"\n  Downloading fusepy-3.0.1.tar.gz (11 kB)\nRequirement already satisfied, skipping upgrade: setuptools>=3.0 in /azureml-envs/azureml_da3e97fcb51801118b8e80207f3e01ad/lib/python3.6/site-packages (from gunicorn==20.1.0->azureml-defaults->-r /azureml-environment-setup/condaenv.gc9ek2d0.requirements.txt (line 1)) (50.3.0.post20201006)\nCollecting Jinja2>=2.10\n  Downloading Jinja2-3.0.1-py3-none-any.whl (133 kB)\nCollecting itsdangerous>=0.24\n  Downloading itsdangerous-2.0.1-py3-none-any.whl (18 kB)\nCollecting click>=5.1\n  Downloading click-8.0.1-py3-none-any.whl (97 kB)\nCollecting wrapt==1.11.1\n  Downloading wrapt-1.11.1.tar.gz (27 kB)\nCollecting importlib-metadata; python_version < \"3.8\"\n  Downloading importlib_metadata-4.8.1-py3-none-any.whl (17 kB)\nCollecting websocket-client>=0.32.0\n  Downloading websocket_client-1.2.1-py2.py3-none-any.whl (52 kB)\nCollecting six>=1.5.2\n  Downloading six-1.16.0-py2.py3-none-any.whl (11 kB)\nCollecting ruamel.yaml.clib>=0.1.2; platform_python_implementation == \"CPython\" and python_version < \"3.10\"\n  Downloading ruamel.yaml.clib-0.2.6-cp36-cp36m-manylinux1_x86_64.whl (552 kB)\nCollecting idna<4,>=2.5; python_version >= \"3\"\n  Downloading idna-3.2-py3-none-any.whl (59 kB)\nRequirement already satisfied, skipping upgrade: certifi>=2017.4.17 in /azureml-envs/azureml_da3e97fcb51801118b8e80207f3e01ad/lib/python3.6/site-packages (from requests<3.0.0,>=2.19.1->azureml-core~=1.34.0->azureml-defaults->-r /azureml-environment-setup/condaenv.gc9ek2d0.requirements.txt (line 1)) (2020.6.20)\nCollecting charset-normalizer~=2.0.0; python_version >= \"3\"\n  Downloading charset_normalizer-2.0.6-py3-none-any.whl (37 kB)\nCollecting azure-mgmt-core<2.0.0,>=1.2.0\n  Downloading azure_mgmt_core-1.3.0-py2.py3-none-any.whl (25 kB)\nCollecting cffi>=1.12\n  Downloading cffi-1.14.6-cp36-cp36m-manylinux1_x86_64.whl (401 kB)\nCollecting requests-oauthlib>=0.5.0\n  Downloading requests_oauthlib-1.3.0-py2.py3-none-any.whl (23 kB)\nCollecting isodate>=0.6.0\n  Downloading isodate-0.6.0-py2.py3-none-any.whl (45 kB)\nCollecting backports.weakref\n  Downloading backports.weakref-1.0.post1-py2.py3-none-any.whl (5.2 kB)\nCollecting pyasn1>=0.1.1\n  Downloading pyasn1-0.4.8-py2.py3-none-any.whl (77 kB)\nCollecting jeepney>=0.6\n  Downloading jeepney-0.7.1-py3-none-any.whl (54 kB)\nCollecting opencensus-context==0.1.2\n  Downloading opencensus_context-0.1.2-py2.py3-none-any.whl (4.4 kB)\nCollecting google-api-core<2.0.0,>=1.0.0\n  Downloading google_api_core-1.31.3-py2.py3-none-any.whl (93 kB)\nCollecting azureml-dataprep-native<39.0.0,>=38.0.0\n  Downloading azureml_dataprep_native-38.0.0-cp36-cp36m-manylinux1_x86_64.whl (1.3 MB)\nCollecting azureml-dataprep-rslex~=1.20.0dev0\n  Downloading azureml_dataprep_rslex-1.20.2-cp36-cp36m-manylinux1_x86_64.whl (10.9 MB)\nCollecting azure-identity<1.5.0,>=1.2.0\n  Downloading azure_identity-1.4.1-py2.py3-none-any.whl (86 kB)\nCollecting dotnetcore2<3.0.0,>=2.1.14\n  Downloading dotnetcore2-2.1.21-py3-none-manylinux1_x86_64.whl (28.7 MB)\nCollecting cloudpickle<2.0.0,>=1.1.0\n  Downloading cloudpickle-1.6.0-py3-none-any.whl (23 kB)\nCollecting MarkupSafe>=2.0\n  Downloading MarkupSafe-2.0.1-cp36-cp36m-manylinux2010_x86_64.whl (30 kB)\nCollecting typing-extensions>=3.6.4; python_version < \"3.8\"\n  Downloading typing_extensions-3.10.0.2-py3-none-any.whl (26 kB)\nCollecting zipp>=0.5\n  Downloading zipp-3.5.0-py3-none-any.whl (5.7 kB)\nCollecting azure-core<2.0.0,>=1.15.0\n  Downloading azure_core-1.18.0-py2.py3-none-any.whl (166 kB)\nCollecting pycparser\n  Downloading pycparser-2.20-py2.py3-none-any.whl (112 kB)\nCollecting oauthlib>=3.0.0\n  Downloading oauthlib-3.1.1-py2.py3-none-any.whl (146 kB)\nCollecting contextvars; python_version >= \"3.6\" and python_version < \"3.7\"\n  Downloading contextvars-2.4.tar.gz (9.6 kB)\nCollecting google-auth<2.0dev,>=1.25.0\n  Downloading google_auth-1.35.0-py2.py3-none-any.whl (152 kB)\nCollecting packaging>=14.3\n  Downloading packaging-21.0-py3-none-any.whl (40 kB)\nCollecting protobuf<3.18.0,>=3.12.0\n  Downloading protobuf-3.17.3-cp36-cp36m-manylinux_2_5_x86_64.manylinux1_x86_64.whl (1.0 MB)\nCollecting googleapis-common-protos<2.0dev,>=1.6.0\n  Downloading googleapis_common_protos-1.53.0-py2.py3-none-any.whl (198 kB)\nCollecting msal<2.0.0,>=1.3.0\n  Downloading msal-1.14.0-py2.py3-none-any.whl (75 kB)\nCollecting msal-extensions~=0.2.2\n  Downloading msal_extensions-0.2.2-py2.py3-none-any.whl (15 kB)\nCollecting distro>=1.2.0\n  Downloading distro-1.6.0-py2.py3-none-any.whl (19 kB)\nCollecting immutables>=0.9\n  Downloading immutables-0.16-cp36-cp36m-manylinux_2_5_x86_64.manylinux1_x86_64.whl (103 kB)\nCollecting pyasn1-modules>=0.2.1\n  Downloading pyasn1_modules-0.2.8-py2.py3-none-any.whl (155 kB)\nCollecting cachetools<5.0,>=2.0.0\n  Downloading cachetools-4.2.2-py3-none-any.whl (11 kB)\nCollecting rsa<5,>=3.1.4; python_version >= \"3.6\"\n  Downloading rsa-4.7.2-py3-none-any.whl (34 kB)\nCollecting pyparsing>=2.0.2\n  Downloading pyparsing-2.4.7-py2.py3-none-any.whl (67 kB)\nCollecting portalocker~=1.0; platform_system != \"Windows\"\n  Downloading portalocker-1.7.1-py2.py3-none-any.whl (10 kB)\nBuilding wheels for collected packages: json-logging-py, fusepy, wrapt, contextvars\n  Building wheel for json-logging-py (setup.py): started\n  Building wheel for json-logging-py (setup.py): finished with status 'done'\n  Created wheel for json-logging-py: filename=json_logging_py-0.2-py3-none-any.whl size=3924 sha256=ebed08ab61f159f2ce06b712d30bdd27143b957f970935fde2fb98f4b18cd548\n  Stored in directory: /root/.cache/pip/wheels/e2/1d/52/535a274b9c2ce7d4064838f2bdb62013801281ef7d7f21e2ee\n  Building wheel for fusepy (setup.py): started\n  Building wheel for fusepy (setup.py): finished with status 'done'\n  Created wheel for fusepy: filename=fusepy-3.0.1-py3-none-any.whl size=10504 sha256=2bd70aeb731cc331d13a2b6e8b6df02a0db07d54719be7942bcd015d7bd28c72\n  Stored in directory: /root/.cache/pip/wheels/21/5c/83/1dd7e8a232d12227e5410120f4374b33adeb4037473105b079\n  Building wheel for wrapt (setup.py): started\n  Building wheel for wrapt (setup.py): finished with status 'done'\n  Created wheel for wrapt: filename=wrapt-1.11.1-cp36-cp36m-linux_x86_64.whl size=69846 sha256=eaff2ad990a87be174b11feb66b782df7e47895a0a06db80dcf213451e622a65\n  Stored in directory: /root/.cache/pip/wheels/94/0f/ec/66085641573800014bb0c8b657f3366eff641c42df79abbfe9\n  Building wheel for contextvars (setup.py): started\n  Building wheel for contextvars (setup.py): finished with status 'done'\n  Created wheel for contextvars: filename=contextvars-2.4-py3-none-any.whl size=7665 sha256=66db10513606d219351fb0bb548b580fff171cc6e0a4a1a311d5a189ce7aedd4\n  Stored in directory: /root/.cache/pip/wheels/41/11/53/911724983aa48deb94792432e14e518447212dd6c5477d49d3\nSuccessfully built json-logging-py fusepy wrapt contextvars\nInstalling collected packages: json-logging-py, gunicorn, MarkupSafe, Jinja2, werkzeug, itsdangerous, typing-extensions, zipp, importlib-metadata, click, flask, wrapt, six, python-dateutil, pytz, inference-schema, applicationinsights, azureml-inference-server-http, jsonpickle, pathspec, idna, urllib3, charset-normalizer, requests, websocket-client, docker, pycparser, cffi, cryptography, pyopenssl, ruamel.yaml.clib, ruamel.yaml, PyJWT, adal, oauthlib, requests-oauthlib, isodate, msrest, msrestazure, azure-common, azure-core, azure-mgmt-core, azure-mgmt-containerregistry, azure-mgmt-keyvault, azure-mgmt-authorization, azure-mgmt-storage, backports.weakref, backports.tempfile, pyasn1, ndg-httpsclient, azure-mgmt-resource, contextlib2, azure-graphrbac, jmespath, jeepney, SecretStorage, azureml-core, immutables, contextvars, opencensus-context, pyasn1-modules, cachetools, rsa, google-auth, pyparsing, packaging, protobuf, googleapis-common-protos, google-api-core, opencensus, psutil, opencensus-ext-azure, azureml-dataprep-native, azureml-dataprep-rslex, msal, portalocker, msal-extensions, azure-identity, distro, dotnetcore2, cloudpickle, azureml-dataprep, numpy, pyarrow, fusepy, azureml-dataset-runtime, configparser, azureml-defaults\nSuccessfully installed Jinja2-3.0.1 MarkupSafe-2.0.1 PyJWT-2.1.0 SecretStorage-3.3.1 adal-1.2.7 applicationinsights-0.11.10 azure-common-1.1.27 azure-core-1.18.0 azure-graphrbac-0.61.1 azure-identity-1.4.1 azure-mgmt-authorization-0.61.0 azure-mgmt-containerregistry-8.1.0 azure-mgmt-core-1.3.0 azure-mgmt-keyvault-9.1.0 azure-mgmt-resource-13.0.0 azure-mgmt-storage-11.2.0 azureml-core-1.34.0 azureml-dataprep-2.22.2 azureml-dataprep-native-38.0.0 azureml-dataprep-rslex-1.20.2 azureml-dataset-runtime-1.34.0 azureml-defaults-1.34.0 azureml-inference-server-http-0.3.1 backports.tempfile-1.0 backports.weakref-1.0.post1 cachetools-4.2.2 cffi-1.14.6 charset-normalizer-2.0.6 click-8.0.1 cloudpickle-1.6.0 configparser-3.7.4 contextlib2-21.6.0 contextvars-2.4 cryptography-3.4.8 distro-1.6.0 docker-5.0.2 dotnetcore2-2.1.21 flask-1.0.3 fusepy-3.0.1 google-api-core-1.31.3 google-auth-1.35.0 googleapis-common-protos-1.53.0 gunicorn-20.1.0 idna-3.2 immutables-0.16 importlib-metadata-4.8.1 inference-schema-1.1.0 isodate-0.6.0 itsdangerous-2.0.1 jeepney-0.7.1 jmespath-0.10.0 json-logging-py-0.2 jsonpickle-2.0.0 msal-1.14.0 msal-extensions-0.2.2 msrest-0.6.21 msrestazure-0.6.4 ndg-httpsclient-0.5.1 numpy-1.19.5 oauthlib-3.1.1 opencensus-0.7.13 opencensus-context-0.1.2 opencensus-ext-azure-1.0.8 packaging-21.0 pathspec-0.9.0 portalocker-1.7.1 protobuf-3.17.3 psutil-5.8.0 pyarrow-3.0.0 pyasn1-0.4.8 pyasn1-modules-0.2.8 pycparser-2.20 pyopenssl-20.0.1 pyparsing-2.4.7 python-dateutil-2.8.2 pytz-2021.1 requests-2.26.0 requests-oauthlib-1.3.0 rsa-4.7.2 ruamel.yaml-0.17.4 ruamel.yaml.clib-0.2.6 six-1.16.0 typing-extensions-3.10.0.2 urllib3-1.26.6 websocket-client-1.2.1 werkzeug-1.0.1 wrapt-1.11.1 zipp-3.5.0\n\ndone\n#\n# To activate this environment, use\n#\n#     $ conda activate /azureml-envs/azureml_da3e97fcb51801118b8e80207f3e01ad\n#\n# To deactivate an active environment, use\n#\n#     $ conda deactivate\n\n\u001b[91m\n\n==> WARNING: A newer version of conda exists. <==\n  current version: 4.9.2\n  latest version: 4.10.3\n\nPlease update conda by running\n\n    $ conda update -n base -c defaults conda\n\n\n\u001b[0mWARNING: /root/.conda/pkgs does not exist\nRemoving intermediate container 2d34a2f5560a\n ---> e01779d21a68\nStep 9/19 : ENV PATH /azureml-envs/azureml_da3e97fcb51801118b8e80207f3e01ad/bin:$PATH\n ---> Running in 56126d185972\nRemoving intermediate container 56126d185972\n ---> 4e6590d45036\nStep 10/19 : COPY azureml-environment-setup/send_conda_dependencies.py azureml-environment-setup/send_conda_dependencies.py\n ---> 9569c5e52d6a\nStep 11/19 : RUN echo \"Copying environment context\"\n ---> Running in f95b762a8628\nCopying environment context\nRemoving intermediate container f95b762a8628\n ---> 913f3262cdf5\nStep 12/19 : COPY azureml-environment-setup/environment_context.json azureml-environment-setup/environment_context.json\n ---> f8285783421d\nStep 13/19 : RUN python /azureml-environment-setup/send_conda_dependencies.py -p /azureml-envs/azureml_da3e97fcb51801118b8e80207f3e01ad\n ---> Running in bb5ed209b99e\nReport materialized dependencies for the environment\nReading environment context\nExporting conda environment\nSending request with materialized conda environment details\nSuccessfully sent materialized environment details\nRemoving intermediate container bb5ed209b99e\n ---> a1c5ddc32ef3\nStep 14/19 : ENV AZUREML_CONDA_ENVIRONMENT_PATH /azureml-envs/azureml_da3e97fcb51801118b8e80207f3e01ad\n ---> Running in 5c663f7d548e\nRemoving intermediate container 5c663f7d548e\n ---> 1df7e955b334\nStep 15/19 : ENV LD_LIBRARY_PATH /azureml-envs/azureml_da3e97fcb51801118b8e80207f3e01ad/lib:$LD_LIBRARY_PATH\n ---> Running in 53cf24852457\nRemoving intermediate container 53cf24852457\n ---> cbad7dee4abf\nStep 16/19 : COPY azureml-environment-setup/spark_cache.py azureml-environment-setup/log4j.properties /azureml-environment-setup/\n ---> ad4ba3005e48\nStep 17/19 : RUN if [ $SPARK_HOME ]; then /bin/bash -c '$SPARK_HOME/bin/spark-submit  /azureml-environment-setup/spark_cache.py'; fi\n ---> Running in 9c5e1dec0297\nRemoving intermediate container 9c5e1dec0297\n ---> 49ec522e8063\nStep 18/19 : ENV AZUREML_ENVIRONMENT_IMAGE True\n ---> Running in 7ac6edd583c2\nRemoving intermediate container 7ac6edd583c2\n ---> 404ab7498df7\nStep 19/19 : CMD [\"bash\"]\n ---> Running in d5c5b7a21859\nRemoving intermediate container d5c5b7a21859\n ---> 6513f9564526\nSuccessfully built 6513f9564526\nSuccessfully tagged acrabstractwe.azurecr.io/azureml/azureml_65cd5ecf2da766559169c9895fd96311:latest\nSuccessfully tagged acrabstractwe.azurecr.io/azureml/azureml_65cd5ecf2da766559169c9895fd96311:2\n2021/09/24 14:06:26 Successfully executed container: acb_step_0\n2021/09/24 14:06:26 Executing step ID: acb_step_1. Timeout(sec): 5400, Working directory: '', Network: 'acb_default_network'\n2021/09/24 14:06:26 Pushing image: acrabstractwe.azurecr.io/azureml/azureml_65cd5ecf2da766559169c9895fd96311:2, attempt 1\nThe push refers to repository [acrabstractwe.azurecr.io/azureml/azureml_65cd5ecf2da766559169c9895fd96311]\n66a45646a197: Preparing\n1b5baa2d62e1: Preparing\n70100665893a: Preparing\n9bd2449fbf69: Preparing\nd29f84b8849e: Preparing\nc26df36b4fe0: Preparing\n0c9f6d9f3360: Preparing\nbc3178cece7c: Preparing\n51239d9cc5d2: Preparing\n9398792c8299: Preparing\n93c9ec44fed0: Preparing\ne0ae5bb40eae: Preparing\n5e9c7e64af11: Preparing\n20e11b7f408c: Preparing\n94c0f7816c07: Preparing\naccea658c5be: Preparing\nc96f19f3c075: Preparing\n21639b09744f: Preparing\nc26df36b4fe0: Waiting\n5e9c7e64af11: Waiting\n0c9f6d9f3360: Waiting\nbc3178cece7c: Waiting\n51239d9cc5d2: Waiting\n9398792c8299: Waiting\n20e11b7f408c: Waiting\n94c0f7816c07: Waiting\naccea658c5be: Waiting\nc96f19f3c075: Waiting\ne0ae5bb40eae: Waiting\n93c9ec44fed0: Waiting\n21639b09744f: Waiting\n70100665893a: Pushed\n9bd2449fbf69: Pushed\n66a45646a197: Pushed\n1b5baa2d62e1: Pushed\nc26df36b4fe0: Pushed\nbc3178cece7c: Pushed\n0c9f6d9f3360: Pushed\n51239d9cc5d2: Pushed\n9398792c8299: Pushed\n93c9ec44fed0: Pushed\n5e9c7e64af11: Pushed\n94c0f7816c07: Pushed\naccea658c5be: Pushed\ne0ae5bb40eae: Pushed\n20e11b7f408c: Pushed\n21639b09744f: Pushed\n\nc96f19f3c075: Pushed\nd29f84b8849e: Pushed\n2: digest: sha256:d1e5a8abd3a097ee641c2cc137343ce966b302fab28253a3210418275afdaddc size: 4099\n2021/09/24 14:07:48 Successfully pushed image: acrabstractwe.azurecr.io/azureml/azureml_65cd5ecf2da766559169c9895fd96311:2\n2021/09/24 14:07:48 Executing step ID: acb_step_2. Timeout(sec): 5400, Working directory: '', Network: 'acb_default_network'\n2021/09/24 14:07:48 Pushing image: acrabstractwe.azurecr.io/azureml/azureml_65cd5ecf2da766559169c9895fd96311:latest, attempt 1\nThe push refers to repository [acrabstractwe.azurecr.io/azureml/azureml_65cd5ecf2da766559169c9895fd96311]\n66a45646a197: Preparing\n1b5baa2d62e1: Preparing\n70100665893a: Preparing\n9bd2449fbf69: Preparing\nd29f84b8849e: Preparing\nc26df36b4fe0: Preparing\n0c9f6d9f3360: Preparing\nbc3178cece7c: Preparing\n51239d9cc5d2: Preparing\n9398792c8299: Preparing\n93c9ec44fed0: Preparing\ne0ae5bb40eae: Preparing\n5e9c7e64af11: Preparing\n20e11b7f408c: Preparing\n94c0f7816c07: Preparing\naccea658c5be: Preparing\nc96f19f3c075: Preparing\n21639b09744f: Preparing\nc26df36b4fe0: Waiting\n0c9f6d9f3360: Waiting\nbc3178cece7c: Waiting\n51239d9cc5d2: Waiting\n9398792c8299: Waiting\n93c9ec44fed0: Waiting\ne0ae5bb40eae: Waiting\n5e9c7e64af11: Waiting\n20e11b7f408c: Waiting\n94c0f7816c07: Waiting\naccea658c5be: Waiting\nc96f19f3c075: Waiting\n21639b09744f: Waiting\n66a45646a197: Layer already exists\n9bd2449fbf69: Layer already exists\nd29f84b8849e: Layer already exists\n1b5baa2d62e1: Layer already exists\n70100665893a: Layer already exists\nbc3178cece7c: Layer already exists\n51239d9cc5d2: Layer already exists\n9398792c8299: Layer already exists\n93c9ec44fed0: Layer already exists\ne0ae5bb40eae: Layer already exists\n20e11b7f408c: Layer already exists\n94c0f7816c07: Layer already exists\n5e9c7e64af11: Layer already exists\n21639b09744f: Layer already exists\naccea658c5be: Layer already exists\nc96f19f3c075: Layer already exists\n0c9f6d9f3360: Layer already exists\nc26df36b4fe0: Layer already exists\nlatest: digest: sha256:d1e5a8abd3a097ee641c2cc137343ce966b302fab28253a3210418275afdaddc size: 4099\n2021/09/24 14:07:50 Successfully pushed image: acrabstractwe.azurecr.io/azureml/azureml_65cd5ecf2da766559169c9895fd96311:latest\n2021/09/24 14:07:50 Step ID: acb_step_0 marked as successful (elapsed time in seconds: 176.870136)\n2021/09/24 14:07:50 Populating digests for step ID: acb_step_0...\n2021/09/24 14:07:52 Successfully populated digests for step ID: acb_step_0\n2021/09/24 14:07:52 Step ID: acb_step_1 marked as successful (elapsed time in seconds: 81.113193)\n2021/09/24 14:07:52 Step ID: acb_step_2 marked as successful (elapsed time in seconds: 2.375584)\n2021/09/24 14:07:52 The following dependencies were found:\n2021/09/24 14:07:52 \n- image:\n    registry: acrabstractwe.azurecr.io\n    repository: azureml/azureml_65cd5ecf2da766559169c9895fd96311\n    tag: latest\n    digest: sha256:d1e5a8abd3a097ee641c2cc137343ce966b302fab28253a3210418275afdaddc\n  runtime-dependency:\n    registry: mcr.microsoft.com\n    repository: azureml/openmpi3.1.2-ubuntu18.04\n    tag: 20210806.v1\n    digest: sha256:bb94557d668c1cebffb04d0a77aa461776f697753fb9ddf2784f8e65f47ff47c\n  git: {}\n- image:\n    registry: acrabstractwe.azurecr.io\n    repository: azureml/azureml_65cd5ecf2da766559169c9895fd96311\n    tag: \"2\"\n    digest: sha256:d1e5a8abd3a097ee641c2cc137343ce966b302fab28253a3210418275afdaddc\n  runtime-dependency:\n    registry: mcr.microsoft.com\n    repository: azureml/openmpi3.1.2-ubuntu18.04\n    tag: 20210806.v1\n    digest: sha256:bb94557d668c1cebffb04d0a77aa461776f697753fb9ddf2784f8e65f47ff47c\n  git: {}\n\nRun ID: cb4 was successful after 4m27s\nPackage creation Succeeded\nLogging into Docker registry acrabstractwe.azurecr.io\nLogging into Docker registry acrabstractwe.azurecr.io\nBuilding Docker image from Dockerfile...\nStep 1/5 : FROM acrabstractwe.azurecr.io/azureml/azureml_65cd5ecf2da766559169c9895fd96311\n ---> 6513f9564526\nStep 2/5 : COPY azureml-app /var/azureml-app\n ---> 4418bb740497\nStep 3/5 : RUN mkdir -p '/var/azureml-app' && echo eyJhY2NvdW50Q29udGV4dCI6eyJzdWJzY3JpcHRpb25JZCI6IjBkMmJmZTVlLWJiYzItNDZmNy1iMmIzLTQ4ODVhMDI5YzAwMiIsInJlc291cmNlR3JvdXBOYW1lIjoicmctYWJzdHJhY3Qtd2UiLCJhY2NvdW50TmFtZSI6ImFtbC1hYnN0cmFjdC13ZSIsIndvcmtzcGFjZUlkIjoiOGQyM2JiNDgtMGQ5ZS00MjQ0LThlZTEtMGJiZjk2ZTYwYzI2In0sIm1vZGVscyI6e30sIm1vZGVsc0luZm8iOnt9fQ== | base64 --decode > /var/azureml-app/model_config_map.json\n ---> Running in b0b60a513c5a\n ---> 6a4b69c0d258\nStep 4/5 : RUN mv '/var/azureml-app/tmpji3kdjn_.py' /var/azureml-app/main.py\n ---> Running in 60df8ac440c5\n ---> 8e142655b6ee\nStep 5/5 : CMD [\"runsvdir\",\"/var/runit\"]\n ---> Running in 8acf278719f4\n ---> e5fbdd6b0baa\nSuccessfully built e5fbdd6b0baa\nSuccessfully tagged myservice:latest\nContainer (name:practical_dubinsky, id:536522dea4f8f38a06aec98c5cf00ea6c1cbdf77d7f222d6bf1e38f4a39e7f66) cannot be killed.\nContainer has been successfully cleaned up.\nImage sha256:248fa796f58bdc657ff8b0e1a7dd5d4ead61204f0b346119b72bd31cb6eeb37a successfully removed.\nStarting Docker container...\nDocker container running.\nChecking container health...\nLocal webservice is running at http://localhost:6789\n"
        }
      ],
      "execution_count": 5,
      "metadata": {
        "jupyter": {
          "source_hidden": false,
          "outputs_hidden": false
        },
        "nteract": {
          "transient": {
            "deleting": false
          }
        },
        "gather": {
          "logged": 1632492562061
        }
      }
    },
    {
      "cell_type": "code",
      "source": [
        "print(service.get_logs())"
      ],
      "outputs": [
        {
          "output_type": "stream",
          "name": "stdout",
          "text": "2021-09-24T13:40:16,949962869+00:00 - gunicorn/run \n2021-09-24T13:40:16,949951869+00:00 - iot-server/run \nDynamic Python package installation is disabled.\nStarting HTTP server\n2021-09-24T13:40:16,950000868+00:00 - rsyslog/run \n2021-09-24T13:40:16,951594365+00:00 - nginx/run \nStarting gunicorn 20.1.0\nListening at: http://127.0.0.1:31311 (14)\nUsing worker: sync\nworker timeout is set to 300\nBooting worker with pid: 39\nEdgeHubConnectionString and IOTEDGE_IOTHUBHOSTNAME are not set. Exiting...\n2021-09-24T13:40:19,109007126+00:00 - iot-server/finish 1 0\n2021-09-24T13:40:19,110477021+00:00 - Exit code 1 is normal. Not restarting iot-server.\nSPARK_HOME not set. Skipping PySpark Initialization.\nInitializing logger\n2021-09-24 13:40:19,870 | root | INFO | Starting up app insights client\nlogging socket was found. logging is available.\nlogging socket was found. logging is available.\n2021-09-24 13:40:19,870 | root | INFO | Starting up request id generator\n2021-09-24 13:40:19,870 | root | INFO | Starting up app insight hooks\n2021-09-24 13:40:19,871 | root | INFO | Invoking user's init function\n2021-09-24 13:40:19,871 | root | INFO | Users's init has completed successfully\n2021-09-24 13:40:19,873 | root | INFO | Skipping middleware: dbg_model_info as it's not enabled.\n2021-09-24 13:40:19,873 | root | INFO | Skipping middleware: dbg_resource_usage as it's not enabled.\n2021-09-24 13:40:19,896 | root | INFO | Scoring timeout setting is not found. Use default timeout: 3600000 ms\n\n"
        }
      ],
      "execution_count": 6,
      "metadata": {
        "jupyter": {
          "source_hidden": false,
          "outputs_hidden": false
        },
        "nteract": {
          "transient": {
            "deleting": false
          }
        },
        "gather": {
          "logged": 1632490825428
        }
      }
    },
    {
      "cell_type": "markdown",
      "source": [
        "# Call into your model\r\n",
        "Let's check that your echo model deployed successfully. You should be able to do a simple liveness request, as well as a scoring request:"
      ],
      "metadata": {
        "nteract": {
          "transient": {
            "deleting": false
          }
        }
      }
    },
    {
      "cell_type": "code",
      "source": [
        "import requests\r\n",
        "import json\r\n",
        "\r\n",
        "uri = service.scoring_uri\r\n",
        "requests.get(\"http://localhost:6789\")\r\n",
        "headers = {\"Content-Type\": \"application/json\"}\r\n",
        "data = {\r\n",
        "    \"id\": \"123456789\",\r\n",
        "    \"content\": \"The quick brown fox jumped over the lazy dog.\",\r\n",
        "}\r\n",
        "data = json.dumps(data)\r\n",
        "response = requests.post(uri, data=data, headers=headers)\r\n",
        "print(response.json())"
      ],
      "outputs": [
        {
          "output_type": "stream",
          "name": "stdout",
          "text": "{\"id\": \"123456789\", \"questions\": [{\"id\": \"Property Address\", \"answers\": [{\"score\": 0.44992750883102417, \"start\": 37, \"end\": 52, \"answer\": \"910 Elkton, LLC\"}, {\"score\": 0.44992750883102417, \"start\": 37, \"end\": 52, \"answer\": \"910 Elkton, LLC\"}, {\"score\": 0.44992750883102417, \"start\": 37, \"end\": 52, \"answer\": \"910 Elkton, LLC\"}]}, {\"id\": \"Landlord\", \"answers\": [{\"score\": 0.44992750883102417, \"start\": 37, \"end\": 52, \"answer\": \"910 Elkton, LLC\"}, {\"score\": 0.44992750883102417, \"start\": 37, \"end\": 52, \"answer\": \"910 Elkton, LLC\"}, {\"score\": 0.44992750883102417, \"start\": 37, \"end\": 52, \"answer\": \"910 Elkton, LLC\"}]}, {\"id\": \"Tenant\", \"answers\": [{\"score\": 0.44992750883102417, \"start\": 37, \"end\": 52, \"answer\": \"910 Elkton, LLC\"}, {\"score\": 0.44992750883102417, \"start\": 37, \"end\": 52, \"answer\": \"910 Elkton, LLC\"}, {\"score\": 0.44992750883102417, \"start\": 37, \"end\": 52, \"answer\": \"910 Elkton, LLC\"}]}, {\"id\": \"Lease Signed Date\", \"answers\": [{\"score\": 0.44992750883102417, \"start\": 37, \"end\": 52, \"answer\": \"910 Elkton, LLC\"}, {\"score\": 0.44992750883102417, \"start\": 37, \"end\": 52, \"answer\": \"910 Elkton, LLC\"}, {\"score\": 0.44992750883102417, \"start\": 37, \"end\": 52, \"answer\": \"910 Elkton, LLC\"}]}, {\"id\": \"Rent Start Date\", \"answers\": [{\"score\": 0.44992750883102417, \"start\": 37, \"end\": 52, \"answer\": \"910 Elkton, LLC\"}, {\"score\": 0.44992750883102417, \"start\": 37, \"end\": 52, \"answer\": \"910 Elkton, LLC\"}, {\"score\": 0.44992750883102417, \"start\": 37, \"end\": 52, \"answer\": \"910 Elkton, LLC\"}]}, {\"id\": \"Expiration Date\", \"answers\": [{\"score\": 0.44992750883102417, \"start\": 37, \"end\": 52, \"answer\": \"910 Elkton, LLC\"}, {\"score\": 0.44992750883102417, \"start\": 37, \"end\": 52, \"answer\": \"910 Elkton, LLC\"}, {\"score\": 0.44992750883102417, \"start\": 37, \"end\": 52, \"answer\": \"910 Elkton, LLC\"}]}, {\"id\": \"Security Deposit Provisions\", \"answers\": [{\"score\": 0.44992750883102417, \"start\": 37, \"end\": 52, \"answer\": \"910 Elkton, LLC\"}, {\"score\": 0.44992750883102417, \"start\": 37, \"end\": 52, \"answer\": \"910 Elkton, LLC\"}, {\"score\": 0.44992750883102417, \"start\": 37, \"end\": 52, \"answer\": \"910 Elkton, LLC\"}]}, {\"id\": \"Lease/Rent Renewal Terms\", \"answers\": [{\"score\": 0.44992750883102417, \"start\": 37, \"end\": 52, \"answer\": \"910 Elkton, LLC\"}, {\"score\": 0.44992750883102417, \"start\": 37, \"end\": 52, \"answer\": \"910 Elkton, LLC\"}, {\"score\": 0.44992750883102417, \"start\": 37, \"end\": 52, \"answer\": \"910 Elkton, LLC\"}]}, {\"id\": \"Improvement Allowance\", \"answers\": [{\"score\": 0.44992750883102417, \"start\": 37, \"end\": 52, \"answer\": \"910 Elkton, LLC\"}, {\"score\": 0.44992750883102417, \"start\": 37, \"end\": 52, \"answer\": \"910 Elkton, LLC\"}, {\"score\": 0.44992750883102417, \"start\": 37, \"end\": 52, \"answer\": \"910 Elkton, LLC\"}]}, {\"id\": \"Landlord/Tenant Reimbursements \", \"answers\": [{\"score\": 0.44992750883102417, \"start\": 37, \"end\": 52, \"answer\": \"910 Elkton, LLC\"}, {\"score\": 0.44992750883102417, \"start\": 37, \"end\": 52, \"answer\": \"910 Elkton, LLC\"}, {\"score\": 0.44992750883102417, \"start\": 37, \"end\": 52, \"answer\": \"910 Elkton, LLC\"}]}, {\"id\": \"Landlord/Tenant Maintenance \", \"answers\": [{\"score\": 0.44992750883102417, \"start\": 37, \"end\": 52, \"answer\": \"910 Elkton, LLC\"}, {\"score\": 0.44992750883102417, \"start\": 37, \"end\": 52, \"answer\": \"910 Elkton, LLC\"}, {\"score\": 0.44992750883102417, \"start\": 37, \"end\": 52, \"answer\": \"910 Elkton, LLC\"}]}, {\"id\": \"Date tenant had ability to occupy the rental space\", \"answers\": [{\"score\": 0.44992750883102417, \"start\": 37, \"end\": 52, \"answer\": \"910 Elkton, LLC\"}, {\"score\": 0.44992750883102417, \"start\": 37, \"end\": 52, \"answer\": \"910 Elkton, LLC\"}, {\"score\": 0.44992750883102417, \"start\": 37, \"end\": 52, \"answer\": \"910 Elkton, LLC\"}]}, {\"id\": \"Operating Lease\", \"answers\": [{\"score\": 0.44992750883102417, \"start\": 37, \"end\": 52, \"answer\": \"910 Elkton, LLC\"}, {\"score\": 0.44992750883102417, \"start\": 37, \"end\": 52, \"answer\": \"910 Elkton, LLC\"}, {\"score\": 0.44992750883102417, \"start\": 37, \"end\": 52, \"answer\": \"910 Elkton, LLC\"}]}, {\"id\": \"Capital Lease\", \"answers\": [{\"score\": 0.44992750883102417, \"start\": 37, \"end\": 52, \"answer\": \"910 Elkton, LLC\"}, {\"score\": 0.44992750883102417, \"start\": 37, \"end\": 52, \"answer\": \"910 Elkton, LLC\"}, {\"score\": 0.44992750883102417, \"start\": 37, \"end\": 52, \"answer\": \"910 Elkton, LLC\"}]}, {\"id\": \"Base Rent/Billing Frequency\", \"answers\": [{\"score\": 0.44992750883102417, \"start\": 37, \"end\": 52, \"answer\": \"910 Elkton, LLC\"}, {\"score\": 0.44992750883102417, \"start\": 37, \"end\": 52, \"answer\": \"910 Elkton, LLC\"}, {\"score\": 0.44992750883102417, \"start\": 37, \"end\": 52, \"answer\": \"910 Elkton, LLC\"}]}, {\"id\": \"Rent Escalations\", \"answers\": [{\"score\": 0.44992750883102417, \"start\": 37, \"end\": 52, \"answer\": \"910 Elkton, LLC\"}, {\"score\": 0.44992750883102417, \"start\": 37, \"end\": 52, \"answer\": \"910 Elkton, LLC\"}, {\"score\": 0.44992750883102417, \"start\": 37, \"end\": 52, \"answer\": \"910 Elkton, LLC\"}]}, {\"id\": \"Base Year or Expense Stop\", \"answers\": [{\"score\": 0.44992750883102417, \"start\": 37, \"end\": 52, \"answer\": \"910 Elkton, LLC\"}, {\"score\": 0.44992750883102417, \"start\": 37, \"end\": 52, \"answer\": \"910 Elkton, LLC\"}, {\"score\": 0.44992750883102417, \"start\": 37, \"end\": 52, \"answer\": \"910 Elkton, LLC\"}]}, {\"id\": \"Expense Escalation\", \"answers\": [{\"score\": 0.44992750883102417, \"start\": 37, \"end\": 52, \"answer\": \"910 Elkton, LLC\"}, {\"score\": 0.44992750883102417, \"start\": 37, \"end\": 52, \"answer\": \"910 Elkton, LLC\"}, {\"score\": 0.44992750883102417, \"start\": 37, \"end\": 52, \"answer\": \"910 Elkton, LLC\"}]}, {\"id\": \"Utility Reimbursement\", \"answers\": [{\"score\": 0.44992750883102417, \"start\": 37, \"end\": 52, \"answer\": \"910 Elkton, LLC\"}, {\"score\": 0.44992750883102417, \"start\": 37, \"end\": 52, \"answer\": \"910 Elkton, LLC\"}, {\"score\": 0.44992750883102417, \"start\": 37, \"end\": 52, \"answer\": \"910 Elkton, LLC\"}]}, {\"id\": \"Rentable Square Feet\", \"answers\": [{\"score\": 0.44992750883102417, \"start\": 37, \"end\": 52, \"answer\": \"910 Elkton, LLC\"}, {\"score\": 0.44992750883102417, \"start\": 37, \"end\": 52, \"answer\": \"910 Elkton, LLC\"}, {\"score\": 0.44992750883102417, \"start\": 37, \"end\": 52, \"answer\": \"910 Elkton, LLC\"}]}, {\"id\": \"Free Rent Period and Amount\", \"answers\": [{\"score\": 0.44992750883102417, \"start\": 37, \"end\": 52, \"answer\": \"910 Elkton, LLC\"}, {\"score\": 0.44992750883102417, \"start\": 37, \"end\": 52, \"answer\": \"910 Elkton, LLC\"}, {\"score\": 0.44992750883102417, \"start\": 37, \"end\": 52, \"answer\": \"910 Elkton, LLC\"}]}, {\"id\": \"For retail spaces, percentage of gross receipts charged as rent\", \"answers\": [{\"score\": 0.44992750883102417, \"start\": 37, \"end\": 52, \"answer\": \"910 Elkton, LLC\"}, {\"score\": 0.44992750883102417, \"start\": 37, \"end\": 52, \"answer\": \"910 Elkton, LLC\"}, {\"score\": 0.44992750883102417, \"start\": 37, \"end\": 52, \"answer\": \"910 Elkton, LLC\"}]}, {\"id\": \"Other Rent (storage/parking/contingency)\", \"answers\": [{\"score\": 0.44992750883102417, \"start\": 37, \"end\": 52, \"answer\": \"910 Elkton, LLC\"}, {\"score\": 0.44992750883102417, \"start\": 37, \"end\": 52, \"answer\": \"910 Elkton, LLC\"}, {\"score\": 0.44992750883102417, \"start\": 37, \"end\": 52, \"answer\": \"910 Elkton, LLC\"}]}, {\"id\": \"Considerations and additional comments for the Engagement Team\", \"answers\": [{\"score\": 0.44992750883102417, \"start\": 37, \"end\": 52, \"answer\": \"910 Elkton, LLC\"}, {\"score\": 0.44992750883102417, \"start\": 37, \"end\": 52, \"answer\": \"910 Elkton, LLC\"}, {\"score\": 0.44992750883102417, \"start\": 37, \"end\": 52, \"answer\": \"910 Elkton, LLC\"}]}]}\n"
        }
      ],
      "execution_count": 7,
      "metadata": {
        "jupyter": {
          "source_hidden": false,
          "outputs_hidden": false
        },
        "nteract": {
          "transient": {
            "deleting": false
          }
        },
        "gather": {
          "logged": 1632492673266
        }
      }
    },
    {
      "cell_type": "code",
      "source": [],
      "outputs": [],
      "execution_count": null,
      "metadata": {
        "jupyter": {
          "source_hidden": false,
          "outputs_hidden": false
        },
        "nteract": {
          "transient": {
            "deleting": false
          }
        }
      }
    }
  ],
  "metadata": {
    "kernelspec": {
      "name": "python3-azureml",
      "language": "python",
      "display_name": "Python 3.6 - AzureML"
    },
    "language_info": {
      "name": "python",
      "version": "3.6.9",
      "mimetype": "text/x-python",
      "codemirror_mode": {
        "name": "ipython",
        "version": 3
      },
      "pygments_lexer": "ipython3",
      "nbconvert_exporter": "python",
      "file_extension": ".py"
    },
    "kernel_info": {
      "name": "python3-azureml"
    },
    "nteract": {
      "version": "nteract-front-end@1.0.0"
    },
    "microsoft": {
      "host": {
        "AzureML": {
          "notebookHasBeenCompleted": true
        }
      }
    }
  },
  "nbformat": 4,
  "nbformat_minor": 2
}